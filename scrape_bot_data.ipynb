{
 "cells": [
  {
   "cell_type": "code",
   "execution_count": 4,
   "metadata": {
    "collapsed": true
   },
   "outputs": [],
   "source": [
    "import requests\n",
    "import time \n",
    "import pandas as pd \n",
    "from bs4 import BeautifulSoup"
   ]
  },
  {
   "cell_type": "code",
   "execution_count": 135,
   "metadata": {
    "collapsed": false
   },
   "outputs": [],
   "source": [
    "urls = pd.read_json(\"data/bots.json\")\n",
    "urls = urls.url.values[:50]"
   ]
  },
  {
   "cell_type": "code",
   "execution_count": 136,
   "metadata": {
    "collapsed": false
   },
   "outputs": [],
   "source": [
    "# url = \"https://botlist.co/bots/2924-pandora-radio-unofficial\"\n",
    "# url = \"https://botlist.co/bots/613-sure\""
   ]
  },
  {
   "cell_type": "code",
   "execution_count": 137,
   "metadata": {
    "collapsed": true
   },
   "outputs": [],
   "source": [
    "def get_url_content(url):\n",
    "    response = requests.get(url)\n",
    "    content = response.content\n",
    "    return content"
   ]
  },
  {
   "cell_type": "code",
   "execution_count": 138,
   "metadata": {
    "collapsed": false
   },
   "outputs": [],
   "source": [
    "def get_content(urls):\n",
    "    pages = []\n",
    "    for url in urls:\n",
    "        pages.append(get_url_content(url))\n",
    "    return pages"
   ]
  },
  {
   "cell_type": "code",
   "execution_count": 140,
   "metadata": {
    "collapsed": false
   },
   "outputs": [],
   "source": [
    "def get_blocks(soup):\n",
    "    side_bar = soup.find(\"div\", attrs = { 'id' : 'sidebar' })\n",
    "    main = soup.find(\"div\", attrs = { 'id' : 'main' })\n",
    "    related = soup.find(\"div\", attrs = { 'id' : 'sidebar-right' })\n",
    "    return side_bar,main, related"
   ]
  },
  {
   "cell_type": "code",
   "execution_count": 141,
   "metadata": {
    "collapsed": true
   },
   "outputs": [],
   "source": [
    "def get_related(related_html):\n",
    "    related = related_html.find_all(\"h2\")\n",
    "    lst = []\n",
    "    for rel in related:\n",
    "        dic = {}\n",
    "        dic[\"url\"] = rel.a.get(\"href\")\n",
    "        dic[\"bot\"] = rel.get_text().strip(\"\\n\")\n",
    "        lst.append(dic)\n",
    "    return lst"
   ]
  },
  {
   "cell_type": "code",
   "execution_count": 142,
   "metadata": {
    "collapsed": false
   },
   "outputs": [],
   "source": [
    "# get_related(soup.find(\"div\", attrs = { 'id' : 'sidebar-right' }))"
   ]
  },
  {
   "cell_type": "code",
   "execution_count": 154,
   "metadata": {
    "collapsed": true
   },
   "outputs": [],
   "source": [
    "def get_stats(main):\n",
    "    about = main.find(\"div\",attrs = { 'id' : 'about' })\n",
    "    stats = about.find(\"p\",attrs = { 'class' : 'stats' })\n",
    "    stats = stats.get_text().replace(\"\\t\",\"\").replace(\"\\n\",\"\").split(\" \")\n",
    "    views = stats[1]\n",
    "    likes = stats[2]\n",
    "    return views, likes"
   ]
  },
  {
   "cell_type": "code",
   "execution_count": 177,
   "metadata": {
    "collapsed": false
   },
   "outputs": [],
   "source": [
    "# about = main.find(\"div\",attrs = { 'id' : 'about' })"
   ]
  },
  {
   "cell_type": "code",
   "execution_count": 178,
   "metadata": {
    "collapsed": false
   },
   "outputs": [],
   "source": [
    "# stats = about.find(\"p\",attrs = { 'class' : 'stats' })"
   ]
  },
  {
   "cell_type": "code",
   "execution_count": 179,
   "metadata": {
    "collapsed": false
   },
   "outputs": [],
   "source": [
    "# stats.get_text().replace(\"\\t\",\"\").replace(\"\\n\",\"\").split(\" \")"
   ]
  },
  {
   "cell_type": "code",
   "execution_count": 180,
   "metadata": {
    "collapsed": false
   },
   "outputs": [],
   "source": [
    "# about_botom = main.find(\"ul\",attrs = { 'class' : 'list-inline' })"
   ]
  },
  {
   "cell_type": "code",
   "execution_count": 148,
   "metadata": {
    "collapsed": false
   },
   "outputs": [],
   "source": [
    "# about_botom.find_all(\"p\",attrs = { 'class' : 'link' })"
   ]
  },
  {
   "cell_type": "code",
   "execution_count": 149,
   "metadata": {
    "collapsed": false
   },
   "outputs": [],
   "source": [
    "pages = get_content(urls)"
   ]
  },
  {
   "cell_type": "code",
   "execution_count": 277,
   "metadata": {
    "collapsed": false
   },
   "outputs": [
    {
     "name": "stdout",
     "output_type": "stream",
     "text": [
      "https://botlist.co/bots/3277-music-monkey\n",
      "['Kik']\n",
      "https://botlist.co/bots/3276-food-scout-bot\n",
      "['Slack']\n",
      "https://botlist.co/bots/3267-trendinggiphybot\n",
      "['Discord']\n",
      "https://botlist.co/bots/3178-pokeworld\n",
      "['Discord']\n",
      "https://botlist.co/bots/2266-firesong\n",
      "['Slack']\n",
      "https://botlist.co/bots/2267-keepy\n",
      "['Messenger']\n",
      "https://botlist.co/bots/2256-anony\n",
      "['Messenger']\n",
      "https://botlist.co/bots/2257-pirate-bay\n",
      "['Telegram']\n",
      "https://botlist.co/bots/2258-werewolf-moderator\n",
      "['Telegram']\n",
      "https://botlist.co/bots/2259-headlines-india\n",
      "['Messenger']\n",
      "https://botlist.co/bots/2260-stranger-space\n",
      "['Messenger']\n",
      "https://botlist.co/bots/2261-yay-prizes\n",
      "['Slack']\n",
      "https://botlist.co/bots/2250-intrafish\n",
      "['Messenger']\n",
      "https://botlist.co/bots/2251-tinker-bot\n",
      "['Messenger']\n",
      "https://botlist.co/bots/3177-quizbear\n",
      "['Messenger']\n",
      "https://botlist.co/bots/2252-pescetarian-kitchen\n",
      "['Messenger']\n",
      "https://botlist.co/bots/2253-chatler\n",
      "['Web']\n",
      "https://botlist.co/bots/2254-little-birdie\n",
      "['Slack']\n",
      "https://botlist.co/bots/2255-beat-the-intro\n",
      "['Amazon Echo']\n",
      "https://botlist.co/bots/2244-parloio\n",
      "['Web']\n",
      "https://botlist.co/bots/2245-the-met-museum-bot\n",
      "['Twitter']\n",
      "https://botlist.co/bots/2246-dabbot\n",
      "['Discord']\n",
      "https://botlist.co/bots/2247-bollywood-gandu\n",
      "['Messenger']\n",
      "https://botlist.co/bots/2248-video-poker\n",
      "['Messenger']\n",
      "https://botlist.co/bots/2249-dropbox-securitybot\n",
      "['Slack']\n",
      "https://botlist.co/bots/3175-twine\n",
      "['Slack']\n",
      "https://botlist.co/bots/2237-salesbot\n",
      "['Messenger']\n",
      "https://botlist.co/bots/2238-webot\n",
      "['Messenger']\n",
      "https://botlist.co/bots/2240-smleads\n",
      "['Web']\n",
      "https://botlist.co/bots/2241-transferwise\n",
      "['Messenger']\n",
      "https://botlist.co/bots/2242-f5bot\n",
      "['Email']\n",
      "https://botlist.co/bots/2243-quiettime\n",
      "['Slack']\n",
      "https://botlist.co/bots/2231-owly\n",
      "['iOS', 'Android']\n",
      "https://botlist.co/bots/2232-on-coffee-makers\n",
      "['Messenger']\n",
      "https://botlist.co/bots/2233-alexa-skill-kit\n",
      "['Amazon Echo']\n",
      "https://botlist.co/bots/2234-botcube\n",
      "['Telegram']\n",
      "https://botlist.co/bots/3174-ign\n",
      "['Amazon Echo']\n",
      "https://botlist.co/bots/2235-my-thc-guide\n",
      "['Messenger']\n",
      "https://botlist.co/bots/2236-facebook-news-bot\n",
      "['Messenger']\n",
      "https://botlist.co/bots/2225-widebot\n",
      "['Web']\n",
      "https://botlist.co/bots/2226-autocompete\n",
      "['Kik']\n",
      "https://botlist.co/bots/2227-netskope\n",
      "['Slack']\n",
      "https://botlist.co/bots/2228-anarchxbot\n",
      "['Telegram']\n",
      "https://botlist.co/bots/2229-miller-time-a-drizly-experience\n",
      "['Amazon Echo']\n",
      "https://botlist.co/bots/2230-karrueche\n",
      "['Messenger']\n",
      "https://botlist.co/bots/2221-typing-bolt\n",
      "['Web']\n",
      "https://botlist.co/bots/2222-amazon-restaurants\n",
      "['Amazon Echo']\n",
      "https://botlist.co/bots/3173-espn\n",
      "['Amazon Echo']\n",
      "https://botlist.co/bots/2223-the-new-york-times\n",
      "['Amazon Echo']\n",
      "https://botlist.co/bots/2224-firebot\n",
      "['Slack']\n"
     ]
    }
   ],
   "source": [
    "for i in range(0,50):\n",
    "    soup = BeautifulSoup(pages[i],\"html.parser\")\n",
    "    l, m, r = get_blocks(soup)\n",
    "#     print(get_stats(m))    \n",
    "#     print(get_rating(m))\n",
    "#     print(get_description(m))\n",
    "#     print(urls[i])\n",
    "#     print(\"#########################\")\n",
    "#     print(get_media(m))\n",
    "    print(urls[i])\n",
    "#     print(get_reviews(m))\n",
    "    print(get_categories(l))"
   ]
  },
  {
   "cell_type": "code",
   "execution_count": 157,
   "metadata": {
    "collapsed": false
   },
   "outputs": [],
   "source": [
    "def get_rating(main):\n",
    "    about_botom = main.find(\"ul\",attrs = { 'class' : 'list-inline' })\n",
    "    rating = about_botom.find(\"div\",attrs = { 'class' : 'rating' })\n",
    "    if rating == None:\n",
    "        return \"None\"\n",
    "    else:\n",
    "        return rating.find_all(\"span\")"
   ]
  },
  {
   "cell_type": "code",
   "execution_count": 174,
   "metadata": {
    "collapsed": false
   },
   "outputs": [],
   "source": [
    "def get_description(main):\n",
    "    return main.find(\"div\",attrs = { 'class' : 'cms-content' }).get_text().replace(\"\\n\",\"\").strip()"
   ]
  },
  {
   "cell_type": "code",
   "execution_count": 204,
   "metadata": {
    "collapsed": false
   },
   "outputs": [],
   "source": [
    "def get_media(main):\n",
    "    media = main.find(\"div\",attrs = { 'class' : 'media' })\n",
    "    if media == None:\n",
    "        return \"None\"\n",
    "    a_tags = media.find_all(\"a\")\n",
    "    imgs = []\n",
    "    for a in a_tags:\n",
    "        sublist = []\n",
    "        sublist.append(a.get(\"href\"))\n",
    "        sublist.append(a.find(\"img\").get(\"src\"))\n",
    "        imgs.append(sublist)\n",
    "    if imgs == []:\n",
    "        return \"None\"\n",
    "    return imgs"
   ]
  },
  {
   "cell_type": "code",
   "execution_count": 253,
   "metadata": {
    "collapsed": false
   },
   "outputs": [],
   "source": [
    "def get_reviews(main):\n",
    "        reviews = main.find(\"div\",attrs = { 'id' : 'reviews' })\n",
    "        reviews = reviews.find_all(\"div\",attrs = { 'class' : 'cms-content' })\n",
    "        revs = []\n",
    "        for r in reviews:\n",
    "            revs.append(r.find(\"p\").get_text().strip())\n",
    "#         print(revs)\n",
    "        return revs"
   ]
  },
  {
   "cell_type": "code",
   "execution_count": 276,
   "metadata": {
    "collapsed": false
   },
   "outputs": [],
   "source": [
    "def get_platforms(side_bar):\n",
    "    ul = side_bar.find(\"ul\",attrs={\"class\":\"bot-platforms list-inline\"})\n",
    "    imgs = ul.find_all(\"img\")\n",
    "    platforms = []\n",
    "    for img in imgs:\n",
    "        platforms.append(img.get_text().replace(\"\\t\",\"\").strip())\n",
    "    return platforms"
   ]
  },
  {
   "cell_type": "code",
   "execution_count": 275,
   "metadata": {
    "collapsed": false
   },
   "outputs": [
    {
     "data": {
      "text/plain": [
       "['Messenger']"
      ]
     },
     "execution_count": 275,
     "metadata": {},
     "output_type": "execute_result"
    }
   ],
   "source": [
    "ul = side_bar.find(\"ul\",attrs={\"class\":\"bot-platforms list-inline\"})\n",
    "imgs = ul.find_all(\"img\")\n",
    "platforms = []\n",
    "for img in imgs:\n",
    "    platforms.append(img.get_text().replace(\"\\t\",\"\").strip())\n",
    "return platforms"
   ]
  },
  {
   "cell_type": "code",
   "execution_count": 278,
   "metadata": {
    "collapsed": true
   },
   "outputs": [],
   "source": [
    "def get_ref_to_bot(side_bar):\n",
    "    # if on messenger, takes you to messanger and opens chat with bot\n",
    "    pass"
   ]
  },
  {
   "cell_type": "code",
   "execution_count": 289,
   "metadata": {
    "collapsed": false
   },
   "outputs": [],
   "source": [
    "def get_categories(side_bar):\n",
    "    cat = side_bar.find(\"div\",attrs={\"class\":\"categories\"})\n",
    "    cat = cat.find_all(\"li\")\n",
    "    categories = []\n",
    "    for c in cat:\n",
    "        categories.append(c.get_text())\n",
    "    return categories"
   ]
  },
  {
   "cell_type": "code",
   "execution_count": 288,
   "metadata": {
    "collapsed": false
   },
   "outputs": [
    {
     "data": {
      "text/plain": [
       "['Travel', 'Food & Drink']"
      ]
     },
     "execution_count": 288,
     "metadata": {},
     "output_type": "execute_result"
    }
   ],
   "source": [
    "cat = side_bar.find(\"div\",attrs={\"class\":\"categories\"})\n",
    "cat = cat.find_all(\"li\")\n",
    "categories = []\n",
    "for c in cat:\n",
    "    categories.append(c.get_text())\n",
    "categories"
   ]
  },
  {
   "cell_type": "code",
   "execution_count": null,
   "metadata": {
    "collapsed": true
   },
   "outputs": [],
   "source": []
  }
 ],
 "metadata": {
  "kernelspec": {
   "display_name": "Python 3",
   "language": "python",
   "name": "python3"
  },
  "language_info": {
   "codemirror_mode": {
    "name": "ipython",
    "version": 3
   },
   "file_extension": ".py",
   "mimetype": "text/x-python",
   "name": "python",
   "nbconvert_exporter": "python",
   "pygments_lexer": "ipython3",
   "version": "3.6.0"
  }
 },
 "nbformat": 4,
 "nbformat_minor": 2
}
