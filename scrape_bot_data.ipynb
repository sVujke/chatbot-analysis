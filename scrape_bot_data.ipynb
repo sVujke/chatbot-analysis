{
 "cells": [
  {
   "cell_type": "code",
   "execution_count": 4,
   "metadata": {
    "collapsed": true
   },
   "outputs": [],
   "source": [
    "import requests\n",
    "import time \n",
    "import pandas as pd \n",
    "from bs4 import BeautifulSoup"
   ]
  },
  {
   "cell_type": "code",
   "execution_count": 135,
   "metadata": {
    "collapsed": false
   },
   "outputs": [],
   "source": [
    "urls = pd.read_json(\"data/bots.json\")\n",
    "urls = urls.url.values[:50]"
   ]
  },
  {
   "cell_type": "code",
   "execution_count": 136,
   "metadata": {
    "collapsed": false
   },
   "outputs": [],
   "source": [
    "# url = \"https://botlist.co/bots/2924-pandora-radio-unofficial\"\n",
    "# url = \"https://botlist.co/bots/613-sure\""
   ]
  },
  {
   "cell_type": "code",
   "execution_count": 137,
   "metadata": {
    "collapsed": true
   },
   "outputs": [],
   "source": [
    "def get_url_content(url):\n",
    "    response = requests.get(url)\n",
    "    content = response.content\n",
    "    return content"
   ]
  },
  {
   "cell_type": "code",
   "execution_count": 138,
   "metadata": {
    "collapsed": false
   },
   "outputs": [],
   "source": [
    "def get_content(urls):\n",
    "    pages = []\n",
    "    for url in urls:\n",
    "        pages.append(get_url_content(url))\n",
    "    return pages"
   ]
  },
  {
   "cell_type": "code",
   "execution_count": 140,
   "metadata": {
    "collapsed": false
   },
   "outputs": [],
   "source": [
    "def get_blocks(soup):\n",
    "    side_bar = soup.find(\"div\", attrs = { 'id' : 'sidebar' })\n",
    "    main = soup.find(\"div\", attrs = { 'id' : 'main' })\n",
    "    related = soup.find(\"div\", attrs = { 'id' : 'sidebar-right' })\n",
    "    return side_bar,main, related"
   ]
  },
  {
   "cell_type": "code",
   "execution_count": 141,
   "metadata": {
    "collapsed": true
   },
   "outputs": [],
   "source": [
    "def get_related(related_html):\n",
    "    related = related_html.find_all(\"h2\")\n",
    "    lst = []\n",
    "    for rel in related:\n",
    "        dic = {}\n",
    "        dic[\"url\"] = rel.a.get(\"href\")\n",
    "        dic[\"bot\"] = rel.get_text().strip(\"\\n\")\n",
    "        lst.append(dic)\n",
    "    return lst"
   ]
  },
  {
   "cell_type": "code",
   "execution_count": 142,
   "metadata": {
    "collapsed": false
   },
   "outputs": [],
   "source": [
    "# get_related(soup.find(\"div\", attrs = { 'id' : 'sidebar-right' }))"
   ]
  },
  {
   "cell_type": "code",
   "execution_count": 154,
   "metadata": {
    "collapsed": true
   },
   "outputs": [],
   "source": [
    "def get_stats(main):\n",
    "    about = main.find(\"div\",attrs = { 'id' : 'about' })\n",
    "    stats = about.find(\"p\",attrs = { 'class' : 'stats' })\n",
    "    stats = stats.get_text().replace(\"\\t\",\"\").replace(\"\\n\",\"\").split(\" \")\n",
    "    views = stats[1]\n",
    "    likes = stats[2]\n",
    "    return views, likes"
   ]
  },
  {
   "cell_type": "code",
   "execution_count": 177,
   "metadata": {
    "collapsed": false
   },
   "outputs": [],
   "source": [
    "# about = main.find(\"div\",attrs = { 'id' : 'about' })"
   ]
  },
  {
   "cell_type": "code",
   "execution_count": 178,
   "metadata": {
    "collapsed": false
   },
   "outputs": [],
   "source": [
    "# stats = about.find(\"p\",attrs = { 'class' : 'stats' })"
   ]
  },
  {
   "cell_type": "code",
   "execution_count": 179,
   "metadata": {
    "collapsed": false
   },
   "outputs": [],
   "source": [
    "# stats.get_text().replace(\"\\t\",\"\").replace(\"\\n\",\"\").split(\" \")"
   ]
  },
  {
   "cell_type": "code",
   "execution_count": 180,
   "metadata": {
    "collapsed": false
   },
   "outputs": [],
   "source": [
    "# about_botom = main.find(\"ul\",attrs = { 'class' : 'list-inline' })"
   ]
  },
  {
   "cell_type": "code",
   "execution_count": 148,
   "metadata": {
    "collapsed": false
   },
   "outputs": [],
   "source": [
    "# about_botom.find_all(\"p\",attrs = { 'class' : 'link' })"
   ]
  },
  {
   "cell_type": "code",
   "execution_count": 149,
   "metadata": {
    "collapsed": false
   },
   "outputs": [],
   "source": [
    "pages = get_content(urls)"
   ]
  },
  {
   "cell_type": "code",
   "execution_count": 255,
   "metadata": {
    "collapsed": false
   },
   "outputs": [],
   "source": [
    "for i in range(0,50):\n",
    "    soup = BeautifulSoup(pages[i],\"html.parser\")\n",
    "    l, m, r = get_blocks(soup)\n",
    "#     print(get_stats(m))    \n",
    "#     print(get_rating(m))\n",
    "#     print(get_description(m))\n",
    "#     print(urls[i])\n",
    "#     print(\"#########################\")\n",
    "#     print(get_media(m))\n",
    "#     print(urls[i])\n",
    "#     print(get_reviews(m))"
   ]
  },
  {
   "cell_type": "code",
   "execution_count": 124,
   "metadata": {
    "collapsed": true
   },
   "outputs": [],
   "source": [
    "about_botom = main.find(\"ul\",attrs = { 'class' : 'list-inline' })"
   ]
  },
  {
   "cell_type": "code",
   "execution_count": 157,
   "metadata": {
    "collapsed": false
   },
   "outputs": [],
   "source": [
    "def get_rating(main):\n",
    "    about_botom = main.find(\"ul\",attrs = { 'class' : 'list-inline' })\n",
    "    rating = about_botom.find(\"div\",attrs = { 'class' : 'rating' })\n",
    "    if rating == None:\n",
    "        return \"None\"\n",
    "    else:\n",
    "        return rating.find_all(\"span\")"
   ]
  },
  {
   "cell_type": "code",
   "execution_count": 174,
   "metadata": {
    "collapsed": false
   },
   "outputs": [],
   "source": [
    "def get_description(main):\n",
    "    return main.find(\"div\",attrs = { 'class' : 'cms-content' }).get_text().replace(\"\\n\",\"\").strip()"
   ]
  },
  {
   "cell_type": "code",
   "execution_count": 204,
   "metadata": {
    "collapsed": false
   },
   "outputs": [],
   "source": [
    "def get_media(main):\n",
    "    media = main.find(\"div\",attrs = { 'class' : 'media' })\n",
    "    if media == None:\n",
    "        return \"None\"\n",
    "    a_tags = media.find_all(\"a\")\n",
    "    imgs = []\n",
    "    for a in a_tags:\n",
    "        sublist = []\n",
    "        sublist.append(a.get(\"href\"))\n",
    "        sublist.append(a.find(\"img\").get(\"src\"))\n",
    "        imgs.append(sublist)\n",
    "    if imgs == []:\n",
    "        return \"None\"\n",
    "    return imgs"
   ]
  },
  {
   "cell_type": "code",
   "execution_count": 253,
   "metadata": {
    "collapsed": false
   },
   "outputs": [],
   "source": [
    "def get_reviews(main):\n",
    "        reviews = main.find(\"div\",attrs = { 'id' : 'reviews' })\n",
    "        reviews = reviews.find_all(\"div\",attrs = { 'class' : 'cms-content' })\n",
    "        revs = []\n",
    "        for r in reviews:\n",
    "            revs.append(r.find(\"p\").get_text().strip())\n",
    "#         print(revs)\n",
    "        return revs"
   ]
  },
  {
   "cell_type": "code",
   "execution_count": null,
   "metadata": {
    "collapsed": true
   },
   "outputs": [],
   "source": []
  }
 ],
 "metadata": {
  "kernelspec": {
   "display_name": "Python 3",
   "language": "python",
   "name": "python3"
  },
  "language_info": {
   "codemirror_mode": {
    "name": "ipython",
    "version": 3
   },
   "file_extension": ".py",
   "mimetype": "text/x-python",
   "name": "python",
   "nbconvert_exporter": "python",
   "pygments_lexer": "ipython3",
   "version": "3.6.0"
  }
 },
 "nbformat": 4,
 "nbformat_minor": 2
}
