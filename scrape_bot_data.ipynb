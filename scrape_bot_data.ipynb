{
 "cells": [
  {
   "cell_type": "code",
   "execution_count": 4,
   "metadata": {
    "collapsed": true
   },
   "outputs": [],
   "source": [
    "import requests\n",
    "import time \n",
    "import pandas as pd \n",
    "from bs4 import BeautifulSoup"
   ]
  },
  {
   "cell_type": "code",
   "execution_count": 47,
   "metadata": {
    "collapsed": false
   },
   "outputs": [],
   "source": [
    "url = \"https://botlist.co/bots/2924-pandora-radio-unofficial\"\n",
    "# url = \"https://botlist.co/bots/613-sure\"\n",
    "response = requests.get(url)\n",
    "content = response.content"
   ]
  },
  {
   "cell_type": "code",
   "execution_count": 48,
   "metadata": {
    "collapsed": false
   },
   "outputs": [],
   "source": [
    "soup = BeautifulSoup(content,\"html.parser\")"
   ]
  },
  {
   "cell_type": "code",
   "execution_count": 49,
   "metadata": {
    "collapsed": false
   },
   "outputs": [],
   "source": [
    "side_bar = soup.find(\"div\", attrs = { 'id' : 'sidebar' })\n",
    "main = soup.find(\"div\", attrs = { 'id' : 'main' })\n",
    "related = soup.find(\"div\", attrs = { 'id' : 'sidebar-right' })"
   ]
  },
  {
   "cell_type": "code",
   "execution_count": 23,
   "metadata": {
    "collapsed": false
   },
   "outputs": [
    {
     "data": {
      "text/plain": [
       "<div class=\"col-md-2\" id=\"sidebar\">\n",
       "<div class=\"avatarContainer\">\n",
       "<img class=\"fill avatar\" src=\"/system/BotList/Bot/logos/000/000/613/medium/Profile.png\">\n",
       "</img></div>\n",
       "<div class=\"platforms\">\n",
       "<h3>Get this bot on</h3>\n",
       "<ul class=\"bot-platforms list-inline\">\n",
       "<a class=\"platform-button\" href=\"http://m.me/surebot?ref=botlist\" target=\"_blank\">\n",
       "<li>\n",
       "<img height=\"20\" src=\"/system/BotList/Platform/logos/000/000/013/original/messenger-icon (1).svg\" title=\"Messenger\"> Messenger\n",
       "\t\t\t\t\t\t\t\n",
       "\t\t\t\t\t\t\t</img></li>\n",
       "</a>\n",
       "</ul>\n",
       "</div>\n",
       "<div class=\"share\">\n",
       "<ul class=\"list-inline\">\n",
       "<li><a href=\"https://twitter.com/intent/tweet?text=Check+out+this+awesome+bot+I+found%2C+Sure%2C+on+%40botlistco%3A+&amp;url=https%3A%2F%2Fbotlist.co%2Fbots%2F613-sure\" target=\"_blank\"><i class=\"fa fa-twitter\"></i></a></li>\n",
       "<li><a href=\"http://www.facebook.com/share.php?title=Sure&amp;u=https%3A%2F%2Fbotlist.co%2Fbots%2F613-sure\" target=\"_blank\"><i class=\"fa fa-facebook\"></i></a><li>\n",
       "<div class=\"Save\">\n",
       "</div>\n",
       "</li></li></ul>\n",
       "</div>\n",
       "<div class=\"categories\">\n",
       "<h3>Categories</h3>\n",
       "<ul class=\"list-unstyled\">\n",
       "<li><a href=\"https://botlist.co/bots/filter?category=19\">Travel</a></li>\n",
       "<li><a href=\"https://botlist.co/bots/filter?category=28\">Food &amp; Drink</a></li>\n",
       "</ul>\n",
       "</div>\n",
       "</div>"
      ]
     },
     "execution_count": 23,
     "metadata": {},
     "output_type": "execute_result"
    }
   ],
   "source": [
    "side_bar"
   ]
  },
  {
   "cell_type": "code",
   "execution_count": 24,
   "metadata": {
    "collapsed": false
   },
   "outputs": [
    {
     "data": {
      "text/plain": [
       "<div class=\"col-md-7 col-xs-12\" id=\"main\">\n",
       "<div class=\"block\" id=\"about\">\n",
       "<div>\n",
       "<h2 class=\"pull-left\">Sure\n",
       "\t\t\t\t\t\t\t\t\t\t\t\t</h2>\n",
       "<div class=\"clearfix\">\n",
       "<div class=\"pull-right\">\n",
       "<p class=\"stats\">\n",
       "<i aria-hidden=\"true\" class=\"fa fa-eye\"></i> 3.6K\n",
       "\n",
       "\t\t\t\t\t\t\t\t\t\t\t\t\t\t\t\t\t\t\t<span id=\"like-unlike-anon-613\">\n",
       "<a class=\"bot-like-anon\" data-count=\"2\" data-id=\"613\" href=\"https://botlist.co/bots/613-sure/like\" id=\"bot-anon-like-613\" title=\"You must be logged in to vote!\"><i aria-hidden=\"true\" class=\"fa fa-heart-o\"></i> <span>2</span></a>\n",
       "</span>\n",
       "</p>\n",
       "</div>\n",
       "</div>\n",
       "</div>\n",
       "<ul class=\"list-inline\">\n",
       "<li><p class=\"link\"><i class=\"fa fa-twitter\"></i> <a href=\"https://twitter.com/@surebot?ref=botlist\" target=\"_blank\">@surebot</a></p></li>\n",
       "<li><p class=\"link\"><i class=\"fa fa-globe\"></i> <a href=\"http://surebot.io/?ref=botlist\" target=\"_blank\">surebot.io</a></p></li>\n",
       "<li class=\"pull-right\">\n",
       "<div class=\"rating\">\n",
       "<span><i aria-hidden=\"true\" class=\"fa fa-star\"></i></span>\n",
       "<span><i aria-hidden=\"true\" class=\"fa fa-star\"></i></span>\n",
       "<span><i aria-hidden=\"true\" class=\"fa fa-star\"></i></span>\n",
       "<span><i aria-hidden=\"true\" class=\"fa fa-star\"></i></span>\n",
       "<span><i aria-hidden=\"true\" class=\"fa fa-star\"></i></span>\n",
       "</div>\n",
       "</li>\n",
       "</ul>\n",
       "<hr>\n",
       "<div class=\"cms-content\">\n",
       "<p></p><p></p>Sure is your new trusted friend you can turn to when you need a restaurant, café or bar recommendation that doesn’t suck.<p></p><p></p>\n",
       "</div>\n",
       "</hr></div><!-- ABOUT -->\n",
       "<div class=\"block\" id=\"media\">\n",
       "<header>\n",
       "<h3 class=\"\">Media</h3>\n",
       "</header>\n",
       "<div class=\"media\">\n",
       "<ul class=\"list-inline\">\n",
       "<li><a data-toggle=\"lightbox\" href=\"/system/BotList/Bot/screenshots/000/000/613/original/tw-sure-screens.png\"><img class=\"media\" src=\"/system/BotList/Bot/screenshots/000/000/613/medium/tw-sure-screens.png\" title=\"Sure\"/></a></li>\n",
       "<li><a data-toggle=\"lightbox\" href=\"/system/BotList/Media/images/000/000/129/original/sure-01.jpg\"><img src=\"/system/BotList/Media/images/000/000/129/medium/sure-01.jpg\" title=\"Sure\"/></a></li>\n",
       "<li><a data-toggle=\"lightbox\" href=\"/system/BotList/Media/images/000/000/130/original/sure-02.jpg\"><img src=\"/system/BotList/Media/images/000/000/130/medium/sure-02.jpg\" title=\"Sure\"/></a></li>\n",
       "</ul>\n",
       "</div>\n",
       "</div><!-- MEDIA -->\n",
       "<div class=\"block\" id=\"reviews\">\n",
       "<header>\n",
       "<h3 class=\"\">Reviews</h3>\n",
       "</header>\n",
       "<div class=\"row\">\n",
       "<div class=\"col-md-12\">\n",
       "<ul>\n",
       "<li>\n",
       "<h5>\n",
       "<a class=\"\" href=\"https://botlist.co/users/juraj\">\n",
       "<img class=\"profile\" height=\"32px\" src=\"//www.gravatar.com/avatar/3823107c87d38422b0430da52b0b03b5?s=80&amp;r=g&amp;d=%2F%2Fbotlist.co%2Fimages%2Fplaceholder%2Fuser.jpg\" width=\"32px\"> Juraj Pal\n",
       "\t                                                                                \t<span class=\"postedon\">| Apr 15, 2016</span>\n",
       "</img></a>\n",
       "</h5>\n",
       "<div class=\"cms-content\">\n",
       "<p>Thanks for featuring Sure here! If you've got any feedback or comments, please do share it with us on HN https://news.ycombinator.com/item?id=11500213</p>\n",
       "</div>\n",
       "</li>\n",
       "<li>\n",
       "<h5>\n",
       "<a class=\"\" href=\"https://botlist.co/users/NjU=korxcswu53xuae2cwcoec5bgtrpjimgd\">\n",
       "<img class=\"profile\" height=\"32px\" src=\"//www.gravatar.com/avatar/0bb6706211992795e4bf449ce6713072?s=80&amp;r=g&amp;d=%2F%2Fbotlist.co%2Fimages%2Fplaceholder%2Fuser.jpg\" width=\"32px\"> Antal János Monori\n",
       "\t                                                                                \t<span class=\"postedon\">| Apr 16, 2016</span>\n",
       "</img></a>\n",
       "</h5>\n",
       "<div class=\"cms-content\">\n",
       "<p>I love the fact that it is not a bot recommending places out of Yelp, but more of a self-curated conscious places for people who like to grab a healthy snack or to try out a new place. Tried it in Copenhagen - worked like a charm!</p>\n",
       "</div>\n",
       "</li>\n",
       "</ul>\n",
       "<hr>\n",
       "<div class=\"post\">\n",
       "<header>\n",
       "<h4>Post a new Review</h4>\n",
       "</header>\n",
       "<div class=\"row\">\n",
       "<div class=\"col-md-12\">\n",
       "<p><a href=\"https://botlist.co/login\">Login</a> to leave a review</p>\n",
       "</div>\n",
       "</div>\n",
       "</div><!-- POST -->\n",
       "</hr></div>\n",
       "</div><!-- ROW -->\n",
       "</div><!-- REVIEWS -->\n",
       "</div>"
      ]
     },
     "execution_count": 24,
     "metadata": {},
     "output_type": "execute_result"
    }
   ],
   "source": [
    "main"
   ]
  },
  {
   "cell_type": "code",
   "execution_count": 29,
   "metadata": {
    "collapsed": false
   },
   "outputs": [],
   "source": [
    "related = related.find_all(\"h2\")"
   ]
  },
  {
   "cell_type": "code",
   "execution_count": 42,
   "metadata": {
    "collapsed": false
   },
   "outputs": [],
   "source": [
    "lst = []\n",
    "for rel in related:\n",
    "    dic = {}\n",
    "    dic[\"url\"] = rel.a.get(\"href\")\n",
    "    dic[\"bot\"] = rel.get_text().strip(\"\\n\")\n",
    "    lst.append(dic)"
   ]
  },
  {
   "cell_type": "code",
   "execution_count": 43,
   "metadata": {
    "collapsed": false
   },
   "outputs": [
    {
     "data": {
      "text/plain": [
       "[{'bot': 'Lyft', 'url': 'https://botlist.co/bots/115-lyft'},\n",
       " {'bot': 'Postcard Bot', 'url': 'https://botlist.co/bots/2142-postcard-bot'},\n",
       " {'bot': 'Mannu Rail', 'url': 'https://botlist.co/bots/1159-mannu-rail'}]"
      ]
     },
     "execution_count": 43,
     "metadata": {},
     "output_type": "execute_result"
    }
   ],
   "source": [
    "lst"
   ]
  },
  {
   "cell_type": "code",
   "execution_count": 44,
   "metadata": {
    "collapsed": true
   },
   "outputs": [],
   "source": [
    "def get_related(related_html):\n",
    "    related = related_html.find_all(\"h2\")\n",
    "    lst = []\n",
    "    for rel in related:\n",
    "        dic = {}\n",
    "        dic[\"url\"] = rel.a.get(\"href\")\n",
    "        dic[\"bot\"] = rel.get_text().strip(\"\\n\")\n",
    "        lst.append(dic)\n",
    "    return lst"
   ]
  },
  {
   "cell_type": "code",
   "execution_count": 50,
   "metadata": {
    "collapsed": false
   },
   "outputs": [
    {
     "data": {
      "text/plain": [
       "[{'bot': 'The Donald Bot',\n",
       "  'url': 'https://botlist.co/bots/1532-the-donald-bot'},\n",
       " {'bot': 'Showtime', 'url': 'https://botlist.co/bots/1553-showtime'},\n",
       " {'bot': 'OverTells', 'url': 'https://botlist.co/bots/2377-overtells'}]"
      ]
     },
     "execution_count": 50,
     "metadata": {},
     "output_type": "execute_result"
    }
   ],
   "source": [
    "get_related(soup.find(\"div\", attrs = { 'id' : 'sidebar-right' }))"
   ]
  },
  {
   "cell_type": "code",
   "execution_count": null,
   "metadata": {
    "collapsed": true
   },
   "outputs": [],
   "source": []
  }
 ],
 "metadata": {
  "kernelspec": {
   "display_name": "Python 3",
   "language": "python",
   "name": "python3"
  },
  "language_info": {
   "codemirror_mode": {
    "name": "ipython",
    "version": 3
   },
   "file_extension": ".py",
   "mimetype": "text/x-python",
   "name": "python",
   "nbconvert_exporter": "python",
   "pygments_lexer": "ipython3",
   "version": "3.6.0"
  }
 },
 "nbformat": 4,
 "nbformat_minor": 2
}
